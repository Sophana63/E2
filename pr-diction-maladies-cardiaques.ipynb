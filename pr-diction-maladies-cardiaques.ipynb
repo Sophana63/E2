{
 "cells": [
  {
   "cell_type": "code",
   "execution_count": 1,
   "metadata": {
    "execution": {
     "iopub.execute_input": "2022-01-06T17:16:12.938817Z",
     "iopub.status.busy": "2022-01-06T17:16:12.938213Z",
     "iopub.status.idle": "2022-01-06T17:16:12.959802Z",
     "shell.execute_reply": "2022-01-06T17:16:12.959069Z",
     "shell.execute_reply.started": "2022-01-06T17:16:12.938775Z"
    }
   },
   "outputs": [],
   "source": [
    "import numpy as np\n",
    "import pandas as pd\n",
    "import matplotlib.pyplot as plt\n",
    "import seaborn as sns\n",
    "import matplotlib as mlt\n",
    "%matplotlib inline\n",
    "data=pd.read_csv('heart.csv')"
   ]
  },
  {
   "cell_type": "markdown",
   "metadata": {},
   "source": [
    "https://www.kaggle.com/code/elouanguyon/pr-diction-maladies-cardiaques\n",
    "\n",
    "**Nous avons les données suivantes dans notre base de données**\n",
    "\n",
    "Age: Âge lors de la crise cardiaque\n",
    "\n",
    "Sex: Sexe de la personne\n",
    "\n",
    "ChestPainType: Type de douleur à la poitrine\n",
    "\n",
    "RestingBP: Pression artérielle au repos (mm Hg)\n",
    "\n",
    "Cholesterol: Cholesterol du patient (mm/dl)\n",
    "\n",
    "FastingBS : Glycémie à jeun du patient (1 si FastingBS > 120 mg/dl, 0 sinon)\n",
    "\n",
    "RestingECG: Résultat des électrocardiogrammes au repos (Normal: Normale, ST: Ondes ST-T abnormales (Invesions onde T  et/ou  augmentaion ou réduction de > 0.05 mV des ondes ST), LVH: Hypertrophie probable ou définitive du ventricule gauche selon le critères d'Estes)\n",
    "\n",
    "MaxHR: Fréquence cardiaque maximale (entre 60 et 202 bpm)\n",
    "\n",
    "ExerciseAngina: Angine causée par l'exercice (Y: Oui, N: Non)\n",
    "\n",
    "Oldpeak: oldpeak = ST [Numeric value measured in depression]\n",
    "\n",
    "ST_Slope: the slope of the peak exercise ST segment [Up: upsloping, Flat: flat, Down: downsloping]\n",
    "\n",
    "HeartDisease: Si le patient avait une maladie cardiaque (1: Oui, 0: Non)\n",
    "\n",
    "\n"
   ]
  },
  {
   "cell_type": "code",
   "execution_count": 2,
   "metadata": {
    "execution": {
     "iopub.execute_input": "2022-01-06T17:16:13.039967Z",
     "iopub.status.busy": "2022-01-06T17:16:13.039464Z",
     "iopub.status.idle": "2022-01-06T17:16:13.057284Z",
     "shell.execute_reply": "2022-01-06T17:16:13.056646Z",
     "shell.execute_reply.started": "2022-01-06T17:16:13.039929Z"
    }
   },
   "outputs": [
    {
     "data": {
      "text/html": [
       "<div>\n",
       "<style scoped>\n",
       "    .dataframe tbody tr th:only-of-type {\n",
       "        vertical-align: middle;\n",
       "    }\n",
       "\n",
       "    .dataframe tbody tr th {\n",
       "        vertical-align: top;\n",
       "    }\n",
       "\n",
       "    .dataframe thead th {\n",
       "        text-align: right;\n",
       "    }\n",
       "</style>\n",
       "<table border=\"1\" class=\"dataframe\">\n",
       "  <thead>\n",
       "    <tr style=\"text-align: right;\">\n",
       "      <th></th>\n",
       "      <th>Age</th>\n",
       "      <th>Sex</th>\n",
       "      <th>ChestPainType</th>\n",
       "      <th>RestingBP</th>\n",
       "      <th>Cholesterol</th>\n",
       "      <th>FastingBS</th>\n",
       "      <th>RestingECG</th>\n",
       "      <th>MaxHR</th>\n",
       "      <th>ExerciseAngina</th>\n",
       "      <th>Oldpeak</th>\n",
       "      <th>ST_Slope</th>\n",
       "      <th>ca</th>\n",
       "      <th>thal</th>\n",
       "      <th>HeartDisease</th>\n",
       "    </tr>\n",
       "  </thead>\n",
       "  <tbody>\n",
       "    <tr>\n",
       "      <th>0</th>\n",
       "      <td>52</td>\n",
       "      <td>1</td>\n",
       "      <td>0</td>\n",
       "      <td>125</td>\n",
       "      <td>212</td>\n",
       "      <td>0</td>\n",
       "      <td>1</td>\n",
       "      <td>168</td>\n",
       "      <td>0</td>\n",
       "      <td>1.0</td>\n",
       "      <td>2</td>\n",
       "      <td>2</td>\n",
       "      <td>3</td>\n",
       "      <td>0</td>\n",
       "    </tr>\n",
       "    <tr>\n",
       "      <th>1</th>\n",
       "      <td>53</td>\n",
       "      <td>1</td>\n",
       "      <td>0</td>\n",
       "      <td>140</td>\n",
       "      <td>203</td>\n",
       "      <td>1</td>\n",
       "      <td>0</td>\n",
       "      <td>155</td>\n",
       "      <td>1</td>\n",
       "      <td>3.1</td>\n",
       "      <td>0</td>\n",
       "      <td>0</td>\n",
       "      <td>3</td>\n",
       "      <td>0</td>\n",
       "    </tr>\n",
       "    <tr>\n",
       "      <th>2</th>\n",
       "      <td>70</td>\n",
       "      <td>1</td>\n",
       "      <td>0</td>\n",
       "      <td>145</td>\n",
       "      <td>174</td>\n",
       "      <td>0</td>\n",
       "      <td>1</td>\n",
       "      <td>125</td>\n",
       "      <td>1</td>\n",
       "      <td>2.6</td>\n",
       "      <td>0</td>\n",
       "      <td>0</td>\n",
       "      <td>3</td>\n",
       "      <td>0</td>\n",
       "    </tr>\n",
       "    <tr>\n",
       "      <th>3</th>\n",
       "      <td>61</td>\n",
       "      <td>1</td>\n",
       "      <td>0</td>\n",
       "      <td>148</td>\n",
       "      <td>203</td>\n",
       "      <td>0</td>\n",
       "      <td>1</td>\n",
       "      <td>161</td>\n",
       "      <td>0</td>\n",
       "      <td>0.0</td>\n",
       "      <td>2</td>\n",
       "      <td>1</td>\n",
       "      <td>3</td>\n",
       "      <td>0</td>\n",
       "    </tr>\n",
       "    <tr>\n",
       "      <th>4</th>\n",
       "      <td>62</td>\n",
       "      <td>0</td>\n",
       "      <td>0</td>\n",
       "      <td>138</td>\n",
       "      <td>294</td>\n",
       "      <td>1</td>\n",
       "      <td>1</td>\n",
       "      <td>106</td>\n",
       "      <td>0</td>\n",
       "      <td>1.9</td>\n",
       "      <td>1</td>\n",
       "      <td>3</td>\n",
       "      <td>2</td>\n",
       "      <td>0</td>\n",
       "    </tr>\n",
       "  </tbody>\n",
       "</table>\n",
       "</div>"
      ],
      "text/plain": [
       "   Age  Sex  ChestPainType  RestingBP  Cholesterol  FastingBS  RestingECG  \\\n",
       "0   52    1              0        125          212          0           1   \n",
       "1   53    1              0        140          203          1           0   \n",
       "2   70    1              0        145          174          0           1   \n",
       "3   61    1              0        148          203          0           1   \n",
       "4   62    0              0        138          294          1           1   \n",
       "\n",
       "   MaxHR  ExerciseAngina  Oldpeak  ST_Slope  ca  thal  HeartDisease  \n",
       "0    168               0      1.0         2   2     3             0  \n",
       "1    155               1      3.1         0   0     3             0  \n",
       "2    125               1      2.6         0   0     3             0  \n",
       "3    161               0      0.0         2   1     3             0  \n",
       "4    106               0      1.9         1   3     2             0  "
      ]
     },
     "execution_count": 2,
     "metadata": {},
     "output_type": "execute_result"
    }
   ],
   "source": [
    "data=data.rename(columns = {\n",
    "    'age':'Age', \n",
    "    'trestbps':'RestingBP', \n",
    "    'chol':'Cholesterol', \n",
    "    'thalach':'MaxHR', \n",
    "    'oldpeak':'Oldpeak', \n",
    "    'fbs':'FastingBS',\n",
    "    'sex':'Sex',\n",
    "    'cp':'ChestPainType',\n",
    "    'restecg':'RestingECG',\n",
    "    'exang':'ExerciseAngina',\n",
    "    'slope':'ST_Slope',\n",
    "    'target':'HeartDisease'})\n",
    "\n",
    "data.head()"
   ]
  },
  {
   "cell_type": "code",
   "execution_count": 3,
   "metadata": {},
   "outputs": [
    {
     "data": {
      "text/html": [
       "<div>\n",
       "<style scoped>\n",
       "    .dataframe tbody tr th:only-of-type {\n",
       "        vertical-align: middle;\n",
       "    }\n",
       "\n",
       "    .dataframe tbody tr th {\n",
       "        vertical-align: top;\n",
       "    }\n",
       "\n",
       "    .dataframe thead th {\n",
       "        text-align: right;\n",
       "    }\n",
       "</style>\n",
       "<table border=\"1\" class=\"dataframe\">\n",
       "  <thead>\n",
       "    <tr style=\"text-align: right;\">\n",
       "      <th></th>\n",
       "      <th>Age</th>\n",
       "      <th>Sex</th>\n",
       "      <th>ChestPainType</th>\n",
       "      <th>RestingBP</th>\n",
       "      <th>Cholesterol</th>\n",
       "      <th>FastingBS</th>\n",
       "      <th>RestingECG</th>\n",
       "      <th>MaxHR</th>\n",
       "      <th>ExerciseAngina</th>\n",
       "      <th>Oldpeak</th>\n",
       "      <th>ST_Slope</th>\n",
       "      <th>ca</th>\n",
       "      <th>thal</th>\n",
       "      <th>HeartDisease</th>\n",
       "    </tr>\n",
       "  </thead>\n",
       "  <tbody>\n",
       "    <tr>\n",
       "      <th>0</th>\n",
       "      <td>52</td>\n",
       "      <td>1</td>\n",
       "      <td>0</td>\n",
       "      <td>0.292453</td>\n",
       "      <td>0.196347</td>\n",
       "      <td>0</td>\n",
       "      <td>1</td>\n",
       "      <td>0.740458</td>\n",
       "      <td>0</td>\n",
       "      <td>1.0</td>\n",
       "      <td>2</td>\n",
       "      <td>2</td>\n",
       "      <td>3</td>\n",
       "      <td>0</td>\n",
       "    </tr>\n",
       "    <tr>\n",
       "      <th>1</th>\n",
       "      <td>53</td>\n",
       "      <td>1</td>\n",
       "      <td>0</td>\n",
       "      <td>0.433962</td>\n",
       "      <td>0.175799</td>\n",
       "      <td>1</td>\n",
       "      <td>0</td>\n",
       "      <td>0.641221</td>\n",
       "      <td>1</td>\n",
       "      <td>3.1</td>\n",
       "      <td>0</td>\n",
       "      <td>0</td>\n",
       "      <td>3</td>\n",
       "      <td>0</td>\n",
       "    </tr>\n",
       "    <tr>\n",
       "      <th>2</th>\n",
       "      <td>70</td>\n",
       "      <td>1</td>\n",
       "      <td>0</td>\n",
       "      <td>0.481132</td>\n",
       "      <td>0.109589</td>\n",
       "      <td>0</td>\n",
       "      <td>1</td>\n",
       "      <td>0.412214</td>\n",
       "      <td>1</td>\n",
       "      <td>2.6</td>\n",
       "      <td>0</td>\n",
       "      <td>0</td>\n",
       "      <td>3</td>\n",
       "      <td>0</td>\n",
       "    </tr>\n",
       "    <tr>\n",
       "      <th>3</th>\n",
       "      <td>61</td>\n",
       "      <td>1</td>\n",
       "      <td>0</td>\n",
       "      <td>0.509434</td>\n",
       "      <td>0.175799</td>\n",
       "      <td>0</td>\n",
       "      <td>1</td>\n",
       "      <td>0.687023</td>\n",
       "      <td>0</td>\n",
       "      <td>0.0</td>\n",
       "      <td>2</td>\n",
       "      <td>1</td>\n",
       "      <td>3</td>\n",
       "      <td>0</td>\n",
       "    </tr>\n",
       "    <tr>\n",
       "      <th>4</th>\n",
       "      <td>62</td>\n",
       "      <td>0</td>\n",
       "      <td>0</td>\n",
       "      <td>0.415094</td>\n",
       "      <td>0.383562</td>\n",
       "      <td>1</td>\n",
       "      <td>1</td>\n",
       "      <td>0.267176</td>\n",
       "      <td>0</td>\n",
       "      <td>1.9</td>\n",
       "      <td>1</td>\n",
       "      <td>3</td>\n",
       "      <td>2</td>\n",
       "      <td>0</td>\n",
       "    </tr>\n",
       "    <tr>\n",
       "      <th>...</th>\n",
       "      <td>...</td>\n",
       "      <td>...</td>\n",
       "      <td>...</td>\n",
       "      <td>...</td>\n",
       "      <td>...</td>\n",
       "      <td>...</td>\n",
       "      <td>...</td>\n",
       "      <td>...</td>\n",
       "      <td>...</td>\n",
       "      <td>...</td>\n",
       "      <td>...</td>\n",
       "      <td>...</td>\n",
       "      <td>...</td>\n",
       "      <td>...</td>\n",
       "    </tr>\n",
       "    <tr>\n",
       "      <th>1020</th>\n",
       "      <td>59</td>\n",
       "      <td>1</td>\n",
       "      <td>1</td>\n",
       "      <td>0.433962</td>\n",
       "      <td>0.216895</td>\n",
       "      <td>0</td>\n",
       "      <td>1</td>\n",
       "      <td>0.709924</td>\n",
       "      <td>1</td>\n",
       "      <td>0.0</td>\n",
       "      <td>2</td>\n",
       "      <td>0</td>\n",
       "      <td>2</td>\n",
       "      <td>1</td>\n",
       "    </tr>\n",
       "    <tr>\n",
       "      <th>1021</th>\n",
       "      <td>60</td>\n",
       "      <td>1</td>\n",
       "      <td>0</td>\n",
       "      <td>0.292453</td>\n",
       "      <td>0.301370</td>\n",
       "      <td>0</td>\n",
       "      <td>0</td>\n",
       "      <td>0.534351</td>\n",
       "      <td>1</td>\n",
       "      <td>2.8</td>\n",
       "      <td>1</td>\n",
       "      <td>1</td>\n",
       "      <td>3</td>\n",
       "      <td>0</td>\n",
       "    </tr>\n",
       "    <tr>\n",
       "      <th>1022</th>\n",
       "      <td>47</td>\n",
       "      <td>1</td>\n",
       "      <td>0</td>\n",
       "      <td>0.150943</td>\n",
       "      <td>0.340183</td>\n",
       "      <td>0</td>\n",
       "      <td>0</td>\n",
       "      <td>0.358779</td>\n",
       "      <td>1</td>\n",
       "      <td>1.0</td>\n",
       "      <td>1</td>\n",
       "      <td>1</td>\n",
       "      <td>2</td>\n",
       "      <td>0</td>\n",
       "    </tr>\n",
       "    <tr>\n",
       "      <th>1023</th>\n",
       "      <td>50</td>\n",
       "      <td>0</td>\n",
       "      <td>0</td>\n",
       "      <td>0.150943</td>\n",
       "      <td>0.292237</td>\n",
       "      <td>0</td>\n",
       "      <td>0</td>\n",
       "      <td>0.671756</td>\n",
       "      <td>0</td>\n",
       "      <td>0.0</td>\n",
       "      <td>2</td>\n",
       "      <td>0</td>\n",
       "      <td>2</td>\n",
       "      <td>1</td>\n",
       "    </tr>\n",
       "    <tr>\n",
       "      <th>1024</th>\n",
       "      <td>54</td>\n",
       "      <td>1</td>\n",
       "      <td>0</td>\n",
       "      <td>0.245283</td>\n",
       "      <td>0.141553</td>\n",
       "      <td>0</td>\n",
       "      <td>1</td>\n",
       "      <td>0.320611</td>\n",
       "      <td>0</td>\n",
       "      <td>1.4</td>\n",
       "      <td>1</td>\n",
       "      <td>1</td>\n",
       "      <td>3</td>\n",
       "      <td>0</td>\n",
       "    </tr>\n",
       "  </tbody>\n",
       "</table>\n",
       "<p>1025 rows × 14 columns</p>\n",
       "</div>"
      ],
      "text/plain": [
       "      Age  Sex  ChestPainType  RestingBP  Cholesterol  FastingBS  RestingECG  \\\n",
       "0      52    1              0   0.292453     0.196347          0           1   \n",
       "1      53    1              0   0.433962     0.175799          1           0   \n",
       "2      70    1              0   0.481132     0.109589          0           1   \n",
       "3      61    1              0   0.509434     0.175799          0           1   \n",
       "4      62    0              0   0.415094     0.383562          1           1   \n",
       "...   ...  ...            ...        ...          ...        ...         ...   \n",
       "1020   59    1              1   0.433962     0.216895          0           1   \n",
       "1021   60    1              0   0.292453     0.301370          0           0   \n",
       "1022   47    1              0   0.150943     0.340183          0           0   \n",
       "1023   50    0              0   0.150943     0.292237          0           0   \n",
       "1024   54    1              0   0.245283     0.141553          0           1   \n",
       "\n",
       "         MaxHR  ExerciseAngina  Oldpeak  ST_Slope  ca  thal  HeartDisease  \n",
       "0     0.740458               0      1.0         2   2     3             0  \n",
       "1     0.641221               1      3.1         0   0     3             0  \n",
       "2     0.412214               1      2.6         0   0     3             0  \n",
       "3     0.687023               0      0.0         2   1     3             0  \n",
       "4     0.267176               0      1.9         1   3     2             0  \n",
       "...        ...             ...      ...       ...  ..   ...           ...  \n",
       "1020  0.709924               1      0.0         2   0     2             1  \n",
       "1021  0.534351               1      2.8         1   1     3             0  \n",
       "1022  0.358779               1      1.0         1   1     2             0  \n",
       "1023  0.671756               0      0.0         2   0     2             1  \n",
       "1024  0.320611               0      1.4         1   1     3             0  \n",
       "\n",
       "[1025 rows x 14 columns]"
      ]
     },
     "execution_count": 3,
     "metadata": {},
     "output_type": "execute_result"
    }
   ],
   "source": [
    "from sklearn.preprocessing import MinMaxScaler, StandardScaler\n",
    "\n",
    "cols_normalize = ['RestingBP', 'Cholesterol', 'MaxHR']\n",
    "scaler_minmax = MinMaxScaler()\n",
    "data[cols_normalize] = scaler_minmax.fit_transform(data[cols_normalize])\n",
    "\n",
    "\n",
    "data "
   ]
  },
  {
   "cell_type": "code",
   "execution_count": 4,
   "metadata": {
    "execution": {
     "iopub.execute_input": "2022-01-06T17:16:13.059105Z",
     "iopub.status.busy": "2022-01-06T17:16:13.058747Z",
     "iopub.status.idle": "2022-01-06T17:16:13.076035Z",
     "shell.execute_reply": "2022-01-06T17:16:13.075175Z",
     "shell.execute_reply.started": "2022-01-06T17:16:13.059076Z"
    }
   },
   "outputs": [
    {
     "name": "stdout",
     "output_type": "stream",
     "text": [
      "<class 'pandas.core.frame.DataFrame'>\n",
      "RangeIndex: 1025 entries, 0 to 1024\n",
      "Data columns (total 14 columns):\n",
      " #   Column          Non-Null Count  Dtype  \n",
      "---  ------          --------------  -----  \n",
      " 0   Age             1025 non-null   int64  \n",
      " 1   Sex             1025 non-null   int64  \n",
      " 2   ChestPainType   1025 non-null   int64  \n",
      " 3   RestingBP       1025 non-null   float64\n",
      " 4   Cholesterol     1025 non-null   float64\n",
      " 5   FastingBS       1025 non-null   int64  \n",
      " 6   RestingECG      1025 non-null   int64  \n",
      " 7   MaxHR           1025 non-null   float64\n",
      " 8   ExerciseAngina  1025 non-null   int64  \n",
      " 9   Oldpeak         1025 non-null   float64\n",
      " 10  ST_Slope        1025 non-null   int64  \n",
      " 11  ca              1025 non-null   int64  \n",
      " 12  thal            1025 non-null   int64  \n",
      " 13  HeartDisease    1025 non-null   int64  \n",
      "dtypes: float64(4), int64(10)\n",
      "memory usage: 112.2 KB\n"
     ]
    }
   ],
   "source": [
    "data.info()"
   ]
  },
  {
   "cell_type": "code",
   "execution_count": 5,
   "metadata": {
    "execution": {
     "iopub.execute_input": "2022-01-06T17:16:13.077563Z",
     "iopub.status.busy": "2022-01-06T17:16:13.077241Z",
     "iopub.status.idle": "2022-01-06T17:16:13.082886Z",
     "shell.execute_reply": "2022-01-06T17:16:13.082208Z",
     "shell.execute_reply.started": "2022-01-06T17:16:13.077532Z"
    }
   },
   "outputs": [
    {
     "data": {
      "text/plain": [
       "(1025, 14)"
      ]
     },
     "execution_count": 5,
     "metadata": {},
     "output_type": "execute_result"
    }
   ],
   "source": [
    "data.shape"
   ]
  },
  {
   "cell_type": "markdown",
   "metadata": {},
   "source": [
    "Nous n'avons pas de données manquantes, ce qui est une bonne nouvelle.\n"
   ]
  },
  {
   "cell_type": "code",
   "execution_count": 6,
   "metadata": {
    "execution": {
     "iopub.execute_input": "2022-01-06T17:16:13.084328Z",
     "iopub.status.busy": "2022-01-06T17:16:13.083881Z",
     "iopub.status.idle": "2022-01-06T17:16:13.098553Z",
     "shell.execute_reply": "2022-01-06T17:16:13.097547Z",
     "shell.execute_reply.started": "2022-01-06T17:16:13.084291Z"
    }
   },
   "outputs": [
    {
     "data": {
      "text/plain": [
       "Age                 int64\n",
       "Sex                 int64\n",
       "ChestPainType       int64\n",
       "RestingBP         float64\n",
       "Cholesterol       float64\n",
       "FastingBS           int64\n",
       "RestingECG          int64\n",
       "MaxHR             float64\n",
       "ExerciseAngina      int64\n",
       "Oldpeak           float64\n",
       "ST_Slope            int64\n",
       "ca                  int64\n",
       "thal                int64\n",
       "HeartDisease        int64\n",
       "dtype: object"
      ]
     },
     "execution_count": 6,
     "metadata": {},
     "output_type": "execute_result"
    }
   ],
   "source": [
    "data.dtypes"
   ]
  },
  {
   "cell_type": "code",
   "execution_count": 7,
   "metadata": {
    "execution": {
     "iopub.execute_input": "2022-01-06T17:16:13.101295Z",
     "iopub.status.busy": "2022-01-06T17:16:13.100748Z",
     "iopub.status.idle": "2022-01-06T17:16:13.114144Z",
     "shell.execute_reply": "2022-01-06T17:16:13.113158Z",
     "shell.execute_reply.started": "2022-01-06T17:16:13.101251Z"
    }
   },
   "outputs": [
    {
     "data": {
      "text/plain": [
       "Index(['Age', 'Sex', 'ChestPainType', 'RestingBP', 'Cholesterol', 'FastingBS',\n",
       "       'RestingECG', 'MaxHR', 'ExerciseAngina', 'Oldpeak', 'ST_Slope', 'ca',\n",
       "       'thal', 'HeartDisease'],\n",
       "      dtype='object')"
      ]
     },
     "execution_count": 7,
     "metadata": {},
     "output_type": "execute_result"
    }
   ],
   "source": [
    "data.columns"
   ]
  },
  {
   "cell_type": "code",
   "execution_count": 8,
   "metadata": {
    "execution": {
     "iopub.execute_input": "2022-01-06T17:16:13.126703Z",
     "iopub.status.busy": "2022-01-06T17:16:13.12638Z",
     "iopub.status.idle": "2022-01-06T17:16:13.160105Z",
     "shell.execute_reply": "2022-01-06T17:16:13.159346Z",
     "shell.execute_reply.started": "2022-01-06T17:16:13.126665Z"
    }
   },
   "outputs": [
    {
     "data": {
      "text/html": [
       "<div>\n",
       "<style scoped>\n",
       "    .dataframe tbody tr th:only-of-type {\n",
       "        vertical-align: middle;\n",
       "    }\n",
       "\n",
       "    .dataframe tbody tr th {\n",
       "        vertical-align: top;\n",
       "    }\n",
       "\n",
       "    .dataframe thead th {\n",
       "        text-align: right;\n",
       "    }\n",
       "</style>\n",
       "<table border=\"1\" class=\"dataframe\">\n",
       "  <thead>\n",
       "    <tr style=\"text-align: right;\">\n",
       "      <th></th>\n",
       "      <th>Age</th>\n",
       "      <th>Sex</th>\n",
       "      <th>ChestPainType</th>\n",
       "      <th>RestingBP</th>\n",
       "      <th>Cholesterol</th>\n",
       "      <th>FastingBS</th>\n",
       "      <th>RestingECG</th>\n",
       "      <th>MaxHR</th>\n",
       "      <th>ExerciseAngina</th>\n",
       "      <th>Oldpeak</th>\n",
       "      <th>ST_Slope</th>\n",
       "      <th>ca</th>\n",
       "      <th>thal</th>\n",
       "      <th>HeartDisease</th>\n",
       "    </tr>\n",
       "  </thead>\n",
       "  <tbody>\n",
       "    <tr>\n",
       "      <th>count</th>\n",
       "      <td>1025.000000</td>\n",
       "      <td>1025.000000</td>\n",
       "      <td>1025.000000</td>\n",
       "      <td>1025.000000</td>\n",
       "      <td>1025.000000</td>\n",
       "      <td>1025.000000</td>\n",
       "      <td>1025.000000</td>\n",
       "      <td>1025.000000</td>\n",
       "      <td>1025.000000</td>\n",
       "      <td>1025.000000</td>\n",
       "      <td>1025.000000</td>\n",
       "      <td>1025.000000</td>\n",
       "      <td>1025.000000</td>\n",
       "      <td>1025.000000</td>\n",
       "    </tr>\n",
       "    <tr>\n",
       "      <th>mean</th>\n",
       "      <td>54.434146</td>\n",
       "      <td>0.695610</td>\n",
       "      <td>0.942439</td>\n",
       "      <td>0.354827</td>\n",
       "      <td>0.273973</td>\n",
       "      <td>0.149268</td>\n",
       "      <td>0.529756</td>\n",
       "      <td>0.596291</td>\n",
       "      <td>0.336585</td>\n",
       "      <td>1.071512</td>\n",
       "      <td>1.385366</td>\n",
       "      <td>0.754146</td>\n",
       "      <td>2.323902</td>\n",
       "      <td>0.513171</td>\n",
       "    </tr>\n",
       "    <tr>\n",
       "      <th>std</th>\n",
       "      <td>9.072290</td>\n",
       "      <td>0.460373</td>\n",
       "      <td>1.029641</td>\n",
       "      <td>0.165252</td>\n",
       "      <td>0.117791</td>\n",
       "      <td>0.356527</td>\n",
       "      <td>0.527878</td>\n",
       "      <td>0.175616</td>\n",
       "      <td>0.472772</td>\n",
       "      <td>1.175053</td>\n",
       "      <td>0.617755</td>\n",
       "      <td>1.030798</td>\n",
       "      <td>0.620660</td>\n",
       "      <td>0.500070</td>\n",
       "    </tr>\n",
       "    <tr>\n",
       "      <th>min</th>\n",
       "      <td>29.000000</td>\n",
       "      <td>0.000000</td>\n",
       "      <td>0.000000</td>\n",
       "      <td>0.000000</td>\n",
       "      <td>0.000000</td>\n",
       "      <td>0.000000</td>\n",
       "      <td>0.000000</td>\n",
       "      <td>0.000000</td>\n",
       "      <td>0.000000</td>\n",
       "      <td>0.000000</td>\n",
       "      <td>0.000000</td>\n",
       "      <td>0.000000</td>\n",
       "      <td>0.000000</td>\n",
       "      <td>0.000000</td>\n",
       "    </tr>\n",
       "    <tr>\n",
       "      <th>25%</th>\n",
       "      <td>48.000000</td>\n",
       "      <td>0.000000</td>\n",
       "      <td>0.000000</td>\n",
       "      <td>0.245283</td>\n",
       "      <td>0.194064</td>\n",
       "      <td>0.000000</td>\n",
       "      <td>0.000000</td>\n",
       "      <td>0.465649</td>\n",
       "      <td>0.000000</td>\n",
       "      <td>0.000000</td>\n",
       "      <td>1.000000</td>\n",
       "      <td>0.000000</td>\n",
       "      <td>2.000000</td>\n",
       "      <td>0.000000</td>\n",
       "    </tr>\n",
       "    <tr>\n",
       "      <th>50%</th>\n",
       "      <td>56.000000</td>\n",
       "      <td>1.000000</td>\n",
       "      <td>1.000000</td>\n",
       "      <td>0.339623</td>\n",
       "      <td>0.260274</td>\n",
       "      <td>0.000000</td>\n",
       "      <td>1.000000</td>\n",
       "      <td>0.618321</td>\n",
       "      <td>0.000000</td>\n",
       "      <td>0.800000</td>\n",
       "      <td>1.000000</td>\n",
       "      <td>0.000000</td>\n",
       "      <td>2.000000</td>\n",
       "      <td>1.000000</td>\n",
       "    </tr>\n",
       "    <tr>\n",
       "      <th>75%</th>\n",
       "      <td>61.000000</td>\n",
       "      <td>1.000000</td>\n",
       "      <td>2.000000</td>\n",
       "      <td>0.433962</td>\n",
       "      <td>0.340183</td>\n",
       "      <td>0.000000</td>\n",
       "      <td>1.000000</td>\n",
       "      <td>0.725191</td>\n",
       "      <td>1.000000</td>\n",
       "      <td>1.800000</td>\n",
       "      <td>2.000000</td>\n",
       "      <td>1.000000</td>\n",
       "      <td>3.000000</td>\n",
       "      <td>1.000000</td>\n",
       "    </tr>\n",
       "    <tr>\n",
       "      <th>max</th>\n",
       "      <td>77.000000</td>\n",
       "      <td>1.000000</td>\n",
       "      <td>3.000000</td>\n",
       "      <td>1.000000</td>\n",
       "      <td>1.000000</td>\n",
       "      <td>1.000000</td>\n",
       "      <td>2.000000</td>\n",
       "      <td>1.000000</td>\n",
       "      <td>1.000000</td>\n",
       "      <td>6.200000</td>\n",
       "      <td>2.000000</td>\n",
       "      <td>4.000000</td>\n",
       "      <td>3.000000</td>\n",
       "      <td>1.000000</td>\n",
       "    </tr>\n",
       "  </tbody>\n",
       "</table>\n",
       "</div>"
      ],
      "text/plain": [
       "               Age          Sex  ChestPainType    RestingBP  Cholesterol  \\\n",
       "count  1025.000000  1025.000000    1025.000000  1025.000000  1025.000000   \n",
       "mean     54.434146     0.695610       0.942439     0.354827     0.273973   \n",
       "std       9.072290     0.460373       1.029641     0.165252     0.117791   \n",
       "min      29.000000     0.000000       0.000000     0.000000     0.000000   \n",
       "25%      48.000000     0.000000       0.000000     0.245283     0.194064   \n",
       "50%      56.000000     1.000000       1.000000     0.339623     0.260274   \n",
       "75%      61.000000     1.000000       2.000000     0.433962     0.340183   \n",
       "max      77.000000     1.000000       3.000000     1.000000     1.000000   \n",
       "\n",
       "         FastingBS   RestingECG        MaxHR  ExerciseAngina      Oldpeak  \\\n",
       "count  1025.000000  1025.000000  1025.000000     1025.000000  1025.000000   \n",
       "mean      0.149268     0.529756     0.596291        0.336585     1.071512   \n",
       "std       0.356527     0.527878     0.175616        0.472772     1.175053   \n",
       "min       0.000000     0.000000     0.000000        0.000000     0.000000   \n",
       "25%       0.000000     0.000000     0.465649        0.000000     0.000000   \n",
       "50%       0.000000     1.000000     0.618321        0.000000     0.800000   \n",
       "75%       0.000000     1.000000     0.725191        1.000000     1.800000   \n",
       "max       1.000000     2.000000     1.000000        1.000000     6.200000   \n",
       "\n",
       "          ST_Slope           ca         thal  HeartDisease  \n",
       "count  1025.000000  1025.000000  1025.000000   1025.000000  \n",
       "mean      1.385366     0.754146     2.323902      0.513171  \n",
       "std       0.617755     1.030798     0.620660      0.500070  \n",
       "min       0.000000     0.000000     0.000000      0.000000  \n",
       "25%       1.000000     0.000000     2.000000      0.000000  \n",
       "50%       1.000000     0.000000     2.000000      1.000000  \n",
       "75%       2.000000     1.000000     3.000000      1.000000  \n",
       "max       2.000000     4.000000     3.000000      1.000000  "
      ]
     },
     "execution_count": 8,
     "metadata": {},
     "output_type": "execute_result"
    }
   ],
   "source": [
    "data.describe()"
   ]
  },
  {
   "cell_type": "code",
   "execution_count": 9,
   "metadata": {
    "execution": {
     "iopub.execute_input": "2022-01-06T17:16:13.162574Z",
     "iopub.status.busy": "2022-01-06T17:16:13.161676Z",
     "iopub.status.idle": "2022-01-06T17:16:13.17185Z",
     "shell.execute_reply": "2022-01-06T17:16:13.171027Z",
     "shell.execute_reply.started": "2022-01-06T17:16:13.162526Z"
    }
   },
   "outputs": [
    {
     "data": {
      "text/html": [
       "<div>\n",
       "<style scoped>\n",
       "    .dataframe tbody tr th:only-of-type {\n",
       "        vertical-align: middle;\n",
       "    }\n",
       "\n",
       "    .dataframe tbody tr th {\n",
       "        vertical-align: top;\n",
       "    }\n",
       "\n",
       "    .dataframe thead th {\n",
       "        text-align: right;\n",
       "    }\n",
       "</style>\n",
       "<table border=\"1\" class=\"dataframe\">\n",
       "  <thead>\n",
       "    <tr style=\"text-align: right;\">\n",
       "      <th></th>\n",
       "      <th>Age</th>\n",
       "      <th>Sex</th>\n",
       "      <th>ChestPainType</th>\n",
       "      <th>RestingBP</th>\n",
       "      <th>Cholesterol</th>\n",
       "      <th>FastingBS</th>\n",
       "      <th>RestingECG</th>\n",
       "      <th>MaxHR</th>\n",
       "      <th>ExerciseAngina</th>\n",
       "      <th>Oldpeak</th>\n",
       "      <th>ST_Slope</th>\n",
       "      <th>ca</th>\n",
       "      <th>thal</th>\n",
       "      <th>HeartDisease</th>\n",
       "    </tr>\n",
       "  </thead>\n",
       "  <tbody>\n",
       "    <tr>\n",
       "      <th>968</th>\n",
       "      <td>53</td>\n",
       "      <td>1</td>\n",
       "      <td>0</td>\n",
       "      <td>0.433962</td>\n",
       "      <td>0.175799</td>\n",
       "      <td>1</td>\n",
       "      <td>0</td>\n",
       "      <td>0.641221</td>\n",
       "      <td>1</td>\n",
       "      <td>3.1</td>\n",
       "      <td>0</td>\n",
       "      <td>0</td>\n",
       "      <td>3</td>\n",
       "      <td>0</td>\n",
       "    </tr>\n",
       "    <tr>\n",
       "      <th>952</th>\n",
       "      <td>54</td>\n",
       "      <td>0</td>\n",
       "      <td>2</td>\n",
       "      <td>0.386792</td>\n",
       "      <td>0.406393</td>\n",
       "      <td>1</td>\n",
       "      <td>1</td>\n",
       "      <td>0.755725</td>\n",
       "      <td>0</td>\n",
       "      <td>0.0</td>\n",
       "      <td>2</td>\n",
       "      <td>0</td>\n",
       "      <td>2</td>\n",
       "      <td>1</td>\n",
       "    </tr>\n",
       "    <tr>\n",
       "      <th>490</th>\n",
       "      <td>57</td>\n",
       "      <td>0</td>\n",
       "      <td>0</td>\n",
       "      <td>0.320755</td>\n",
       "      <td>0.404110</td>\n",
       "      <td>0</td>\n",
       "      <td>0</td>\n",
       "      <td>0.671756</td>\n",
       "      <td>0</td>\n",
       "      <td>0.0</td>\n",
       "      <td>2</td>\n",
       "      <td>1</td>\n",
       "      <td>2</td>\n",
       "      <td>1</td>\n",
       "    </tr>\n",
       "    <tr>\n",
       "      <th>127</th>\n",
       "      <td>53</td>\n",
       "      <td>1</td>\n",
       "      <td>2</td>\n",
       "      <td>0.339623</td>\n",
       "      <td>0.162100</td>\n",
       "      <td>1</td>\n",
       "      <td>0</td>\n",
       "      <td>0.618321</td>\n",
       "      <td>0</td>\n",
       "      <td>1.2</td>\n",
       "      <td>0</td>\n",
       "      <td>0</td>\n",
       "      <td>2</td>\n",
       "      <td>1</td>\n",
       "    </tr>\n",
       "    <tr>\n",
       "      <th>659</th>\n",
       "      <td>59</td>\n",
       "      <td>1</td>\n",
       "      <td>0</td>\n",
       "      <td>0.415094</td>\n",
       "      <td>0.331050</td>\n",
       "      <td>0</td>\n",
       "      <td>0</td>\n",
       "      <td>0.847328</td>\n",
       "      <td>0</td>\n",
       "      <td>0.0</td>\n",
       "      <td>2</td>\n",
       "      <td>0</td>\n",
       "      <td>2</td>\n",
       "      <td>1</td>\n",
       "    </tr>\n",
       "    <tr>\n",
       "      <th>...</th>\n",
       "      <td>...</td>\n",
       "      <td>...</td>\n",
       "      <td>...</td>\n",
       "      <td>...</td>\n",
       "      <td>...</td>\n",
       "      <td>...</td>\n",
       "      <td>...</td>\n",
       "      <td>...</td>\n",
       "      <td>...</td>\n",
       "      <td>...</td>\n",
       "      <td>...</td>\n",
       "      <td>...</td>\n",
       "      <td>...</td>\n",
       "      <td>...</td>\n",
       "    </tr>\n",
       "    <tr>\n",
       "      <th>360</th>\n",
       "      <td>48</td>\n",
       "      <td>1</td>\n",
       "      <td>0</td>\n",
       "      <td>0.264151</td>\n",
       "      <td>0.219178</td>\n",
       "      <td>0</td>\n",
       "      <td>0</td>\n",
       "      <td>0.877863</td>\n",
       "      <td>0</td>\n",
       "      <td>0.0</td>\n",
       "      <td>2</td>\n",
       "      <td>0</td>\n",
       "      <td>2</td>\n",
       "      <td>1</td>\n",
       "    </tr>\n",
       "    <tr>\n",
       "      <th>897</th>\n",
       "      <td>52</td>\n",
       "      <td>1</td>\n",
       "      <td>1</td>\n",
       "      <td>0.377358</td>\n",
       "      <td>0.171233</td>\n",
       "      <td>0</td>\n",
       "      <td>1</td>\n",
       "      <td>0.664122</td>\n",
       "      <td>0</td>\n",
       "      <td>0.8</td>\n",
       "      <td>2</td>\n",
       "      <td>1</td>\n",
       "      <td>2</td>\n",
       "      <td>1</td>\n",
       "    </tr>\n",
       "    <tr>\n",
       "      <th>709</th>\n",
       "      <td>45</td>\n",
       "      <td>1</td>\n",
       "      <td>3</td>\n",
       "      <td>0.150943</td>\n",
       "      <td>0.315068</td>\n",
       "      <td>0</td>\n",
       "      <td>1</td>\n",
       "      <td>0.465649</td>\n",
       "      <td>0</td>\n",
       "      <td>1.2</td>\n",
       "      <td>1</td>\n",
       "      <td>0</td>\n",
       "      <td>3</td>\n",
       "      <td>0</td>\n",
       "    </tr>\n",
       "    <tr>\n",
       "      <th>439</th>\n",
       "      <td>58</td>\n",
       "      <td>1</td>\n",
       "      <td>1</td>\n",
       "      <td>0.245283</td>\n",
       "      <td>0.360731</td>\n",
       "      <td>0</td>\n",
       "      <td>0</td>\n",
       "      <td>0.679389</td>\n",
       "      <td>0</td>\n",
       "      <td>1.8</td>\n",
       "      <td>1</td>\n",
       "      <td>0</td>\n",
       "      <td>2</td>\n",
       "      <td>0</td>\n",
       "    </tr>\n",
       "    <tr>\n",
       "      <th>174</th>\n",
       "      <td>54</td>\n",
       "      <td>1</td>\n",
       "      <td>0</td>\n",
       "      <td>0.150943</td>\n",
       "      <td>0.257991</td>\n",
       "      <td>0</td>\n",
       "      <td>1</td>\n",
       "      <td>0.419847</td>\n",
       "      <td>1</td>\n",
       "      <td>2.8</td>\n",
       "      <td>1</td>\n",
       "      <td>1</td>\n",
       "      <td>3</td>\n",
       "      <td>0</td>\n",
       "    </tr>\n",
       "  </tbody>\n",
       "</table>\n",
       "<p>820 rows × 14 columns</p>\n",
       "</div>"
      ],
      "text/plain": [
       "     Age  Sex  ChestPainType  RestingBP  Cholesterol  FastingBS  RestingECG  \\\n",
       "968   53    1              0   0.433962     0.175799          1           0   \n",
       "952   54    0              2   0.386792     0.406393          1           1   \n",
       "490   57    0              0   0.320755     0.404110          0           0   \n",
       "127   53    1              2   0.339623     0.162100          1           0   \n",
       "659   59    1              0   0.415094     0.331050          0           0   \n",
       "..   ...  ...            ...        ...          ...        ...         ...   \n",
       "360   48    1              0   0.264151     0.219178          0           0   \n",
       "897   52    1              1   0.377358     0.171233          0           1   \n",
       "709   45    1              3   0.150943     0.315068          0           1   \n",
       "439   58    1              1   0.245283     0.360731          0           0   \n",
       "174   54    1              0   0.150943     0.257991          0           1   \n",
       "\n",
       "        MaxHR  ExerciseAngina  Oldpeak  ST_Slope  ca  thal  HeartDisease  \n",
       "968  0.641221               1      3.1         0   0     3             0  \n",
       "952  0.755725               0      0.0         2   0     2             1  \n",
       "490  0.671756               0      0.0         2   1     2             1  \n",
       "127  0.618321               0      1.2         0   0     2             1  \n",
       "659  0.847328               0      0.0         2   0     2             1  \n",
       "..        ...             ...      ...       ...  ..   ...           ...  \n",
       "360  0.877863               0      0.0         2   0     2             1  \n",
       "897  0.664122               0      0.8         2   1     2             1  \n",
       "709  0.465649               0      1.2         1   0     3             0  \n",
       "439  0.679389               0      1.8         1   0     2             0  \n",
       "174  0.419847               1      2.8         1   1     3             0  \n",
       "\n",
       "[820 rows x 14 columns]"
      ]
     },
     "execution_count": 9,
     "metadata": {},
     "output_type": "execute_result"
    }
   ],
   "source": [
    "#Nous divisons nos données en 2 ensembles: train et test. Nous allons entrainer notre modèle sur train afin de vérifier sur test\n",
    "from sklearn.model_selection import train_test_split\n",
    "train, test = train_test_split(data,test_size=0.2,random_state= 4)\n",
    "train"
   ]
  },
  {
   "cell_type": "markdown",
   "metadata": {},
   "source": [
    "**Visualisons nos différentes données numériques**"
   ]
  },
  {
   "cell_type": "code",
   "execution_count": 10,
   "metadata": {
    "execution": {
     "iopub.execute_input": "2022-01-06T17:16:13.173811Z",
     "iopub.status.busy": "2022-01-06T17:16:13.173053Z",
     "iopub.status.idle": "2022-01-06T17:16:14.993855Z",
     "shell.execute_reply": "2022-01-06T17:16:14.992975Z",
     "shell.execute_reply.started": "2022-01-06T17:16:13.173767Z"
    }
   },
   "outputs": [
    {
     "data": {
      "image/png": "[encoded data removed]",
      "text/plain": [
       "<Figure size 640x480 with 1 Axes>"
      ]
     },
     "metadata": {},
     "output_type": "display_data"
    },
    {
     "data": {
      "image/png": "[encoded data removed]",
      "text/plain": [
       "<Figure size 640x480 with 1 Axes>"
      ]
     },
     "metadata": {},
     "output_type": "display_data"
    },
    {
     "data": {
      "image/png": "[encoded data removed]",
      "text/plain": [
       "<Figure size 640x480 with 1 Axes>"
      ]
     },
     "metadata": {},
     "output_type": "display_data"
    },
    {
     "data": {
      "image/png": "[encoded data removed]",
      "text/plain": [
       "<Figure size 640x480 with 1 Axes>"
      ]
     },
     "metadata": {},
     "output_type": "display_data"
    },
    {
     "data": {
      "image/png": "[encoded data removed]",
      "text/plain": [
       "<Figure size 640x480 with 1 Axes>"
      ]
     },
     "metadata": {},
     "output_type": "display_data"
    },
    {
     "data": {
      "image/png": "[encoded data removed]",
      "text/plain": [
       "<Figure size 640x480 with 1 Axes>"
      ]
     },
     "metadata": {},
     "output_type": "display_data"
    },
    {
     "data": {
      "image/png": "[encoded data removed]",
      "text/plain": [
       "<Figure size 640x480 with 1 Axes>"
      ]
     },
     "metadata": {},
     "output_type": "display_data"
    },
    {
     "data": {
      "image/png": "[encoded data removed]",
      "text/plain": [
       "<Figure size 640x480 with 1 Axes>"
      ]
     },
     "metadata": {},
     "output_type": "display_data"
    },
    {
     "data": {
      "image/png": "[encoded data removed]",
      "text/plain": [
       "<Figure size 640x480 with 1 Axes>"
      ]
     },
     "metadata": {},
     "output_type": "display_data"
    },
    {
     "data": {
      "image/png": "[encoded data removed]",
      "text/plain": [
       "<Figure size 640x480 with 1 Axes>"
      ]
     },
     "metadata": {},
     "output_type": "display_data"
    }
   ],
   "source": [
    "\n",
    "# train_data_quali = train[['Sex', 'ChestPainType', \"FastingBS\", 'RestingECG', 'ExerciseAngina', 'ST_Slope']]\n",
    "train_data_num = train[[\"Age\", \"RestingBP\", \"Cholesterol\", \"MaxHR\", \"Oldpeak\"]]\n",
    "for i in train_data_num.columns:    \n",
    "    plt.hist(train_data_num[i])\n",
    "    plt.title(i)\n",
    "    plt.show()\n",
    "    plt.boxplot(train_data_num[i])\n",
    "    plt.title(i)\n",
    "    plt.show()"
   ]
  },
  {
   "cell_type": "markdown",
   "metadata": {},
   "source": [
    "**Regardons les corrélations entre les différentes variables numériques**"
   ]
  },
  {
   "cell_type": "code",
   "execution_count": 11,
   "metadata": {
    "execution": {
     "iopub.execute_input": "2022-01-06T17:16:14.995993Z",
     "iopub.status.busy": "2022-01-06T17:16:14.995743Z",
     "iopub.status.idle": "2022-01-06T17:16:15.26959Z",
     "shell.execute_reply": "2022-01-06T17:16:15.269028Z",
     "shell.execute_reply.started": "2022-01-06T17:16:14.995961Z"
    }
   },
   "outputs": [
    {
     "data": {
      "text/plain": [
       "<Axes: >"
      ]
     },
     "execution_count": 11,
     "metadata": {},
     "output_type": "execute_result"
    },
    {
     "data": {
      "image/png": "[encoded data removed]",
      "text/plain": [
       "<Figure size 640x480 with 2 Axes>"
      ]
     },
     "metadata": {},
     "output_type": "display_data"
    }
   ],
   "source": [
    "sns.heatmap(train_data_num.corr())"
   ]
  },
  {
   "cell_type": "markdown",
   "metadata": {},
   "source": [
    "On n'a pas vraiment de corrélation positive mais il  y a quelques légères corrélations négatives comme l'âge et la fréqueence cardiaque et la glycémie et le cholesterol"
   ]
  },
  {
   "cell_type": "code",
   "execution_count": 12,
   "metadata": {
    "execution": {
     "iopub.execute_input": "2022-01-06T17:16:15.271441Z",
     "iopub.status.busy": "2022-01-06T17:16:15.27066Z",
     "iopub.status.idle": "2022-01-06T17:16:15.295447Z",
     "shell.execute_reply": "2022-01-06T17:16:15.294791Z",
     "shell.execute_reply.started": "2022-01-06T17:16:15.2714Z"
    }
   },
   "outputs": [
    {
     "data": {
      "text/html": [
       "<div>\n",
       "<style scoped>\n",
       "    .dataframe tbody tr th:only-of-type {\n",
       "        vertical-align: middle;\n",
       "    }\n",
       "\n",
       "    .dataframe tbody tr th {\n",
       "        vertical-align: top;\n",
       "    }\n",
       "\n",
       "    .dataframe thead th {\n",
       "        text-align: right;\n",
       "    }\n",
       "</style>\n",
       "<table border=\"1\" class=\"dataframe\">\n",
       "  <thead>\n",
       "    <tr style=\"text-align: right;\">\n",
       "      <th></th>\n",
       "      <th>Age</th>\n",
       "      <th>Cholesterol</th>\n",
       "      <th>FastingBS</th>\n",
       "      <th>MaxHR</th>\n",
       "      <th>Oldpeak</th>\n",
       "      <th>RestingBP</th>\n",
       "    </tr>\n",
       "    <tr>\n",
       "      <th>HeartDisease</th>\n",
       "      <th></th>\n",
       "      <th></th>\n",
       "      <th></th>\n",
       "      <th></th>\n",
       "      <th></th>\n",
       "      <th></th>\n",
       "    </tr>\n",
       "  </thead>\n",
       "  <tbody>\n",
       "    <tr>\n",
       "      <th>0</th>\n",
       "      <td>56.530612</td>\n",
       "      <td>0.285091</td>\n",
       "      <td>0.170918</td>\n",
       "      <td>0.512405</td>\n",
       "      <td>1.599235</td>\n",
       "      <td>0.380800</td>\n",
       "    </tr>\n",
       "    <tr>\n",
       "      <th>1</th>\n",
       "      <td>52.350467</td>\n",
       "      <td>0.263256</td>\n",
       "      <td>0.137850</td>\n",
       "      <td>0.670026</td>\n",
       "      <td>0.560280</td>\n",
       "      <td>0.331555</td>\n",
       "    </tr>\n",
       "  </tbody>\n",
       "</table>\n",
       "</div>"
      ],
      "text/plain": [
       "                    Age  Cholesterol  FastingBS     MaxHR   Oldpeak  RestingBP\n",
       "HeartDisease                                                                  \n",
       "0             56.530612     0.285091   0.170918  0.512405  1.599235   0.380800\n",
       "1             52.350467     0.263256   0.137850  0.670026  0.560280   0.331555"
      ]
     },
     "execution_count": 12,
     "metadata": {},
     "output_type": "execute_result"
    }
   ],
   "source": [
    "pd.pivot_table(train, index=\"HeartDisease\", values=[\"Age\", \"RestingBP\", \"Cholesterol\", \"FastingBS\", \"MaxHR\", \"Oldpeak\"])"
   ]
  },
  {
   "cell_type": "markdown",
   "metadata": {},
   "source": [
    "On peut commencer à tracer le profil d'une personne ayant eu un arrêt cardiaque (ce n'est pas définitif et pas forcément vrai. C'est une première esquisse): il est généralement plus vieux, a un cholesterol plus faible, il a 3 fois plus de chance d'avoir un taux de glycémie à jeun de 120mg/dl ou plus. Il a une fréquance cardiaque maximale faible etc..."
   ]
  },
  {
   "cell_type": "markdown",
   "metadata": {},
   "source": [
    "Regardons maintenant les données qualitatives"
   ]
  },
  {
   "cell_type": "code",
   "execution_count": 13,
   "metadata": {
    "execution": {
     "iopub.execute_input": "2022-01-06T17:16:15.297467Z",
     "iopub.status.busy": "2022-01-06T17:16:15.296674Z",
     "iopub.status.idle": "2022-01-06T17:16:15.303561Z",
     "shell.execute_reply": "2022-01-06T17:16:15.302538Z",
     "shell.execute_reply.started": "2022-01-06T17:16:15.297426Z"
    }
   },
   "outputs": [],
   "source": [
    "train_data_quali = train[['Sex', 'ChestPainType', \"FastingBS\",\n",
    "       'RestingECG', 'ExerciseAngina', 'ST_Slope']]"
   ]
  },
  {
   "cell_type": "code",
   "execution_count": 14,
   "metadata": {
    "execution": {
     "iopub.execute_input": "2022-01-06T17:16:15.305349Z",
     "iopub.status.busy": "2022-01-06T17:16:15.304938Z",
     "iopub.status.idle": "2022-01-06T17:16:16.477169Z",
     "shell.execute_reply": "2022-01-06T17:16:16.476509Z",
     "shell.execute_reply.started": "2022-01-06T17:16:15.305301Z"
    }
   },
   "outputs": [
    {
     "data": {
      "image/png": "[encoded data removed]",
      "text/plain": [
       "<Figure size 640x480 with 1 Axes>"
      ]
     },
     "metadata": {},
     "output_type": "display_data"
    },
    {
     "data": {
      "image/png": "[encoded data removed]",
      "text/plain": [
       "<Figure size 640x480 with 1 Axes>"
      ]
     },
     "metadata": {},
     "output_type": "display_data"
    },
    {
     "data": {
      "image/png": "[encoded data removed]",
      "text/plain": [
       "<Figure size 640x480 with 1 Axes>"
      ]
     },
     "metadata": {},
     "output_type": "display_data"
    },
    {
     "data": {
      "image/png": "[encoded data removed]",
      "text/plain": [
       "<Figure size 640x480 with 1 Axes>"
      ]
     },
     "metadata": {},
     "output_type": "display_data"
    },
    {
     "data": {
      "image/png": "[encoded data removed]",
      "text/plain": [
       "<Figure size 640x480 with 1 Axes>"
      ]
     },
     "metadata": {},
     "output_type": "display_data"
    },
    {
     "data": {
      "image/png": "[encoded data removed]",
      "text/plain": [
       "<Figure size 640x480 with 1 Axes>"
      ]
     },
     "metadata": {},
     "output_type": "display_data"
    }
   ],
   "source": [
    "for info in train_data_quali.columns:\n",
    "    sns.barplot(x=train_data_quali[info].value_counts().index, y=train_data_quali[info].value_counts()).set_title(info)\n",
    "    plt.show()"
   ]
  },
  {
   "cell_type": "code",
   "execution_count": 15,
   "metadata": {
    "execution": {
     "iopub.execute_input": "2022-01-06T17:16:16.479816Z",
     "iopub.status.busy": "2022-01-06T17:16:16.478402Z",
     "iopub.status.idle": "2022-01-06T17:16:16.499308Z",
     "shell.execute_reply": "2022-01-06T17:16:16.498307Z",
     "shell.execute_reply.started": "2022-01-06T17:16:16.479773Z"
    }
   },
   "outputs": [],
   "source": [
    "# Pour entrainer nos modèles, il va falloir convertir nos données qualitatives en données numériques en utilisant get_dummies\n",
    "\n",
    "train = pd.get_dummies(train)\n",
    "test = pd.get_dummies(test)\n"
   ]
  },
  {
   "cell_type": "code",
   "execution_count": 16,
   "metadata": {
    "execution": {
     "iopub.execute_input": "2022-01-06T17:16:16.501055Z",
     "iopub.status.busy": "2022-01-06T17:16:16.500713Z",
     "iopub.status.idle": "2022-01-06T17:16:16.533576Z",
     "shell.execute_reply": "2022-01-06T17:16:16.533002Z",
     "shell.execute_reply.started": "2022-01-06T17:16:16.501025Z"
    }
   },
   "outputs": [
    {
     "data": {
      "text/html": [
       "<div>\n",
       "<style scoped>\n",
       "    .dataframe tbody tr th:only-of-type {\n",
       "        vertical-align: middle;\n",
       "    }\n",
       "\n",
       "    .dataframe tbody tr th {\n",
       "        vertical-align: top;\n",
       "    }\n",
       "\n",
       "    .dataframe thead th {\n",
       "        text-align: right;\n",
       "    }\n",
       "</style>\n",
       "<table border=\"1\" class=\"dataframe\">\n",
       "  <thead>\n",
       "    <tr style=\"text-align: right;\">\n",
       "      <th></th>\n",
       "      <th>Age</th>\n",
       "      <th>Sex</th>\n",
       "      <th>ChestPainType</th>\n",
       "      <th>RestingBP</th>\n",
       "      <th>Cholesterol</th>\n",
       "      <th>FastingBS</th>\n",
       "      <th>RestingECG</th>\n",
       "      <th>MaxHR</th>\n",
       "      <th>ExerciseAngina</th>\n",
       "      <th>Oldpeak</th>\n",
       "      <th>ST_Slope</th>\n",
       "      <th>ca</th>\n",
       "      <th>thal</th>\n",
       "      <th>HeartDisease</th>\n",
       "    </tr>\n",
       "  </thead>\n",
       "  <tbody>\n",
       "    <tr>\n",
       "      <th>968</th>\n",
       "      <td>53</td>\n",
       "      <td>1</td>\n",
       "      <td>0</td>\n",
       "      <td>0.433962</td>\n",
       "      <td>0.175799</td>\n",
       "      <td>1</td>\n",
       "      <td>0</td>\n",
       "      <td>0.641221</td>\n",
       "      <td>1</td>\n",
       "      <td>3.1</td>\n",
       "      <td>0</td>\n",
       "      <td>0</td>\n",
       "      <td>3</td>\n",
       "      <td>0</td>\n",
       "    </tr>\n",
       "    <tr>\n",
       "      <th>952</th>\n",
       "      <td>54</td>\n",
       "      <td>0</td>\n",
       "      <td>2</td>\n",
       "      <td>0.386792</td>\n",
       "      <td>0.406393</td>\n",
       "      <td>1</td>\n",
       "      <td>1</td>\n",
       "      <td>0.755725</td>\n",
       "      <td>0</td>\n",
       "      <td>0.0</td>\n",
       "      <td>2</td>\n",
       "      <td>0</td>\n",
       "      <td>2</td>\n",
       "      <td>1</td>\n",
       "    </tr>\n",
       "    <tr>\n",
       "      <th>490</th>\n",
       "      <td>57</td>\n",
       "      <td>0</td>\n",
       "      <td>0</td>\n",
       "      <td>0.320755</td>\n",
       "      <td>0.404110</td>\n",
       "      <td>0</td>\n",
       "      <td>0</td>\n",
       "      <td>0.671756</td>\n",
       "      <td>0</td>\n",
       "      <td>0.0</td>\n",
       "      <td>2</td>\n",
       "      <td>1</td>\n",
       "      <td>2</td>\n",
       "      <td>1</td>\n",
       "    </tr>\n",
       "    <tr>\n",
       "      <th>127</th>\n",
       "      <td>53</td>\n",
       "      <td>1</td>\n",
       "      <td>2</td>\n",
       "      <td>0.339623</td>\n",
       "      <td>0.162100</td>\n",
       "      <td>1</td>\n",
       "      <td>0</td>\n",
       "      <td>0.618321</td>\n",
       "      <td>0</td>\n",
       "      <td>1.2</td>\n",
       "      <td>0</td>\n",
       "      <td>0</td>\n",
       "      <td>2</td>\n",
       "      <td>1</td>\n",
       "    </tr>\n",
       "    <tr>\n",
       "      <th>659</th>\n",
       "      <td>59</td>\n",
       "      <td>1</td>\n",
       "      <td>0</td>\n",
       "      <td>0.415094</td>\n",
       "      <td>0.331050</td>\n",
       "      <td>0</td>\n",
       "      <td>0</td>\n",
       "      <td>0.847328</td>\n",
       "      <td>0</td>\n",
       "      <td>0.0</td>\n",
       "      <td>2</td>\n",
       "      <td>0</td>\n",
       "      <td>2</td>\n",
       "      <td>1</td>\n",
       "    </tr>\n",
       "  </tbody>\n",
       "</table>\n",
       "</div>"
      ],
      "text/plain": [
       "     Age  Sex  ChestPainType  RestingBP  Cholesterol  FastingBS  RestingECG  \\\n",
       "968   53    1              0   0.433962     0.175799          1           0   \n",
       "952   54    0              2   0.386792     0.406393          1           1   \n",
       "490   57    0              0   0.320755     0.404110          0           0   \n",
       "127   53    1              2   0.339623     0.162100          1           0   \n",
       "659   59    1              0   0.415094     0.331050          0           0   \n",
       "\n",
       "        MaxHR  ExerciseAngina  Oldpeak  ST_Slope  ca  thal  HeartDisease  \n",
       "968  0.641221               1      3.1         0   0     3             0  \n",
       "952  0.755725               0      0.0         2   0     2             1  \n",
       "490  0.671756               0      0.0         2   1     2             1  \n",
       "127  0.618321               0      1.2         0   0     2             1  \n",
       "659  0.847328               0      0.0         2   0     2             1  "
      ]
     },
     "execution_count": 16,
     "metadata": {},
     "output_type": "execute_result"
    }
   ],
   "source": [
    "#Vérifions que les données ont bien été remplacées\n",
    "train.head(5)"
   ]
  },
  {
   "cell_type": "markdown",
   "metadata": {},
   "source": [
    "Nous allons enlever la colonne HeartDisease de test afin que nous puissons faire nos prédictoins avant de comparer nos résultats à ceux de cette colonne"
   ]
  },
  {
   "cell_type": "code",
   "execution_count": 17,
   "metadata": {
    "execution": {
     "iopub.execute_input": "2022-01-06T17:17:28.054719Z",
     "iopub.status.busy": "2022-01-06T17:17:28.054393Z",
     "iopub.status.idle": "2022-01-06T17:17:28.063562Z",
     "shell.execute_reply": "2022-01-06T17:17:28.062548Z",
     "shell.execute_reply.started": "2022-01-06T17:17:28.054683Z"
    }
   },
   "outputs": [],
   "source": [
    "# C'est le moment\n",
    "x_train = train.drop(columns = [\"HeartDisease\"])\n",
    "y_train = train[\"HeartDisease\"]\n",
    "\n",
    "x_test = test.drop(columns = [\"HeartDisease\"])\n",
    "y_test = test[\"HeartDisease\"]\n",
    "\n"
   ]
  },
  {
   "cell_type": "markdown",
   "metadata": {},
   "source": [
    "J'ai fait des recherches sur le type de régression à utiliser parce qu'il y en a beaucoup et je ne les connais pas toutes. Je suis tombé sur une vidéo qui explique brièvement quelle régression utiliser selon le scénario et dans mon cas, la \"Binary Logistic Regression\" serait la régression à effectuer dans mon cas (on cherche une réponse tranchée avec seulement deux options: oui on non (https://youtu.be/i8tjLQUPc8Y). Cela s'est confirmé quand j'ai trouvé un pdf de Claremont Graduate University dans lequel il est écrit que la \"Binary Logistic Regression\" est utilse lorsqu'on a affaire à un choix entre deux possibiéités. http://wise.cgu.edu/wp-content/uploads/2016/07/Introduction-to-Logistic-Regression.pdf"
   ]
  },
  {
   "cell_type": "code",
   "execution_count": 18,
   "metadata": {
    "execution": {
     "iopub.execute_input": "2022-01-06T17:17:21.965708Z",
     "iopub.status.busy": "2022-01-06T17:17:21.965352Z",
     "iopub.status.idle": "2022-01-06T17:17:24.631344Z",
     "shell.execute_reply": "2022-01-06T17:17:24.630209Z",
     "shell.execute_reply.started": "2022-01-06T17:17:21.965668Z"
    }
   },
   "outputs": [
    {
     "name": "stdout",
     "output_type": "stream",
     "text": [
      "Précision train: 0.8536585365853658 \n",
      " Précision test: 0.824390243902439\n"
     ]
    }
   ],
   "source": [
    "from sklearn.linear_model import LogisticRegression\n",
    "import sklearn\n",
    "# En faisant mes recherches, j'ai remarqué que beaucoup de gens utilisaient le paramètre max_iter \n",
    "# de LogisticRegression alors j'ai décidé d'en tester quelques uns afin de trouver le nombre qui va \n",
    "# maximiser mon résultat (je pense que le plus sera le mieux)\n",
    "\n",
    "# j'essayais max_iter avec 500 et il y avait des erreurs. Fonctionne avec 1000 et plus. Fonctionne à partir de 639. \n",
    "# On peut voir que pour ce scénario, max_iter n'a pas d'importance\n",
    "for i in range(1000,2000,1000):\n",
    "    Log_Reg = LogisticRegression(max_iter=i)\n",
    "    modele=Log_Reg.fit(x_train, y_train)\n",
    "    print(\"Précision train:\",modele.score(x_train, y_train),\"\\n\",\"Précision test:\",modele.score(x_test,y_test))"
   ]
  },
  {
   "cell_type": "markdown",
   "metadata": {},
   "source": [
    "# Amélioration du modèle"
   ]
  },
  {
   "cell_type": "code",
   "execution_count": 19,
   "metadata": {},
   "outputs": [
    {
     "data": {
      "text/plain": [
       "0.8329268292682928"
      ]
     },
     "execution_count": 19,
     "metadata": {},
     "output_type": "execute_result"
    }
   ],
   "source": [
    "from sklearn.neighbors import KNeighborsClassifier\n",
    "from sklearn.model_selection import cross_val_score\n",
    "\n",
    "knn_classifier = KNeighborsClassifier(n_neighbors = 12)\n",
    "score=cross_val_score(knn_classifier,x_train,y_train,cv=10)\n",
    "score.mean()"
   ]
  },
  {
   "cell_type": "markdown",
   "metadata": {},
   "source": [
    "En résumé, ce code utilise la bibliothèque scikit-learn (sklearn) pour créer un classificateur K plus proches voisins (KNeighborsClassifier). La valeur n_neighbors est définie à 12, ce qui signifie que lors de la classification, l'algorithme considérera les 12 voisins les plus proches d'un point donné.\n",
    "\n",
    "Ensuite, le code utilise la validation croisée avec 10 plis (cross-validation with 10 folds) pour évaluer les performances du classificateur. Cela signifie que l'ensemble de données d'entraînement est divisé en 10 parties égales, appelées \"plis\". Le classificateur est entraîné et évalué 10 fois, chaque fois en utilisant un pli différent comme ensemble de validation et les 9 autres plis comme ensemble d'entraînement. Cela permet d'obtenir une estimation plus fiable des performances du classificateur.\n",
    "\n",
    "La fonction cross_val_score retourne un tableau de scores, où chaque score correspond à la performance du classificateur sur un pli de validation spécifique.\n",
    "\n",
    "Enfin, la méthode .mean() est utilisée pour calculer la moyenne des scores obtenus lors de la validation croisée. Cela donne une estimation générale des performances du classificateur sur l'ensemble de données d'entraînement.\n",
    "\n",
    "N'oubliez pas d'importer les bibliothèques nécessaires, telles que sklearn.neighbors, et de vous assurer que les données d'entraînement (x_train et y_train) sont correctement définies avant d'exécuter ce code."
   ]
  },
  {
   "cell_type": "code",
   "execution_count": 20,
   "metadata": {},
   "outputs": [
    {
     "data": {
      "text/plain": [
       "0.9817073170731707"
      ]
     },
     "execution_count": 20,
     "metadata": {},
     "output_type": "execute_result"
    }
   ],
   "source": [
    "from sklearn.ensemble import RandomForestClassifier\n",
    "from sklearn.model_selection import cross_val_score\n",
    "\n",
    "randomforest_classifier= RandomForestClassifier(n_estimators=10)\n",
    "score=cross_val_score(randomforest_classifier,x_train,y_train,cv=10)\n",
    "score.mean()"
   ]
  },
  {
   "cell_type": "markdown",
   "metadata": {},
   "source": [
    "Ce code utilise la bibliothèque scikit-learn (sklearn) pour créer un classificateur de type Random Forest (RandomForestClassifier). La valeur n_estimators est définie à 10, ce qui signifie que le classificateur sera constitué de 10 arbres de décision.\n",
    "\n",
    "Ensuite, le code utilise la validation croisée (cross-validation) avec 10 plis (folds) pour évaluer les performances du classificateur. La fonction cross_val_score retourne un tableau de scores pour chaque pli de validation.\n",
    "\n",
    "Enfin, la moyenne des scores est calculée à l'aide de la méthode .mean() pour obtenir une estimation générale des performances du classificateur.\n",
    "\n",
    "Assurez-vous d'avoir importé les bibliothèques nécessaires et d'avoir les données d'entraînement (x_train et y_train) correctement définies avant d'exécuter ce code."
   ]
  },
  {
   "cell_type": "code",
   "execution_count": 21,
   "metadata": {},
   "outputs": [
    {
     "data": {
      "text/plain": [
       "<Axes: >"
      ]
     },
     "execution_count": 21,
     "metadata": {},
     "output_type": "execute_result"
    },
    {
     "data": {
      "image/png": "[encoded data removed]",
      "text/plain": [
       "<Figure size 640x480 with 2 Axes>"
      ]
     },
     "metadata": {},
     "output_type": "display_data"
    }
   ],
   "source": [
    "# Calcul des corrélations entre les variables\n",
    "correlations = data.corr()\n",
    "\n",
    "# Affichage des corrélations\n",
    "sns.heatmap(correlations)\n"
   ]
  },
  {
   "cell_type": "code",
   "execution_count": 22,
   "metadata": {},
   "outputs": [
    {
     "data": {
      "text/html": [
       "<div>\n",
       "<style scoped>\n",
       "    .dataframe tbody tr th:only-of-type {\n",
       "        vertical-align: middle;\n",
       "    }\n",
       "\n",
       "    .dataframe tbody tr th {\n",
       "        vertical-align: top;\n",
       "    }\n",
       "\n",
       "    .dataframe thead th {\n",
       "        text-align: right;\n",
       "    }\n",
       "</style>\n",
       "<table border=\"1\" class=\"dataframe\">\n",
       "  <thead>\n",
       "    <tr style=\"text-align: right;\">\n",
       "      <th></th>\n",
       "      <th>Age</th>\n",
       "      <th>Sex</th>\n",
       "      <th>ChestPainType</th>\n",
       "      <th>RestingBP</th>\n",
       "      <th>Cholesterol</th>\n",
       "      <th>FastingBS</th>\n",
       "      <th>RestingECG</th>\n",
       "      <th>MaxHR</th>\n",
       "      <th>ExerciseAngina</th>\n",
       "      <th>Oldpeak</th>\n",
       "      <th>ST_Slope</th>\n",
       "      <th>ca</th>\n",
       "      <th>thal</th>\n",
       "      <th>HeartDisease</th>\n",
       "    </tr>\n",
       "  </thead>\n",
       "  <tbody>\n",
       "    <tr>\n",
       "      <th>Age</th>\n",
       "      <td>1.000000</td>\n",
       "      <td>-0.103240</td>\n",
       "      <td>-0.071966</td>\n",
       "      <td>0.271121</td>\n",
       "      <td>0.219823</td>\n",
       "      <td>0.121243</td>\n",
       "      <td>-0.132696</td>\n",
       "      <td>-0.390227</td>\n",
       "      <td>0.088163</td>\n",
       "      <td>0.208137</td>\n",
       "      <td>-0.169105</td>\n",
       "      <td>0.271551</td>\n",
       "      <td>0.072297</td>\n",
       "      <td>-0.229324</td>\n",
       "    </tr>\n",
       "    <tr>\n",
       "      <th>Sex</th>\n",
       "      <td>-0.103240</td>\n",
       "      <td>1.000000</td>\n",
       "      <td>-0.041119</td>\n",
       "      <td>-0.078974</td>\n",
       "      <td>-0.198258</td>\n",
       "      <td>0.027200</td>\n",
       "      <td>-0.055117</td>\n",
       "      <td>-0.049365</td>\n",
       "      <td>0.139157</td>\n",
       "      <td>0.084687</td>\n",
       "      <td>-0.026666</td>\n",
       "      <td>0.111729</td>\n",
       "      <td>0.198424</td>\n",
       "      <td>-0.279501</td>\n",
       "    </tr>\n",
       "    <tr>\n",
       "      <th>ChestPainType</th>\n",
       "      <td>-0.071966</td>\n",
       "      <td>-0.041119</td>\n",
       "      <td>1.000000</td>\n",
       "      <td>0.038177</td>\n",
       "      <td>-0.081641</td>\n",
       "      <td>0.079294</td>\n",
       "      <td>0.043581</td>\n",
       "      <td>0.306839</td>\n",
       "      <td>-0.401513</td>\n",
       "      <td>-0.174733</td>\n",
       "      <td>0.131633</td>\n",
       "      <td>-0.176206</td>\n",
       "      <td>-0.163341</td>\n",
       "      <td>0.434854</td>\n",
       "    </tr>\n",
       "    <tr>\n",
       "      <th>RestingBP</th>\n",
       "      <td>0.271121</td>\n",
       "      <td>-0.078974</td>\n",
       "      <td>0.038177</td>\n",
       "      <td>1.000000</td>\n",
       "      <td>0.127977</td>\n",
       "      <td>0.181767</td>\n",
       "      <td>-0.123794</td>\n",
       "      <td>-0.039264</td>\n",
       "      <td>0.061197</td>\n",
       "      <td>0.187434</td>\n",
       "      <td>-0.120445</td>\n",
       "      <td>0.104554</td>\n",
       "      <td>0.059276</td>\n",
       "      <td>-0.138772</td>\n",
       "    </tr>\n",
       "    <tr>\n",
       "      <th>Cholesterol</th>\n",
       "      <td>0.219823</td>\n",
       "      <td>-0.198258</td>\n",
       "      <td>-0.081641</td>\n",
       "      <td>0.127977</td>\n",
       "      <td>1.000000</td>\n",
       "      <td>0.026917</td>\n",
       "      <td>-0.147410</td>\n",
       "      <td>-0.021772</td>\n",
       "      <td>0.067382</td>\n",
       "      <td>0.064880</td>\n",
       "      <td>-0.014248</td>\n",
       "      <td>0.074259</td>\n",
       "      <td>0.100244</td>\n",
       "      <td>-0.099966</td>\n",
       "    </tr>\n",
       "    <tr>\n",
       "      <th>FastingBS</th>\n",
       "      <td>0.121243</td>\n",
       "      <td>0.027200</td>\n",
       "      <td>0.079294</td>\n",
       "      <td>0.181767</td>\n",
       "      <td>0.026917</td>\n",
       "      <td>1.000000</td>\n",
       "      <td>-0.104051</td>\n",
       "      <td>-0.008866</td>\n",
       "      <td>0.049261</td>\n",
       "      <td>0.010859</td>\n",
       "      <td>-0.061902</td>\n",
       "      <td>0.137156</td>\n",
       "      <td>-0.042177</td>\n",
       "      <td>-0.041164</td>\n",
       "    </tr>\n",
       "    <tr>\n",
       "      <th>RestingECG</th>\n",
       "      <td>-0.132696</td>\n",
       "      <td>-0.055117</td>\n",
       "      <td>0.043581</td>\n",
       "      <td>-0.123794</td>\n",
       "      <td>-0.147410</td>\n",
       "      <td>-0.104051</td>\n",
       "      <td>1.000000</td>\n",
       "      <td>0.048411</td>\n",
       "      <td>-0.065606</td>\n",
       "      <td>-0.050114</td>\n",
       "      <td>0.086086</td>\n",
       "      <td>-0.078072</td>\n",
       "      <td>-0.020504</td>\n",
       "      <td>0.134468</td>\n",
       "    </tr>\n",
       "    <tr>\n",
       "      <th>MaxHR</th>\n",
       "      <td>-0.390227</td>\n",
       "      <td>-0.049365</td>\n",
       "      <td>0.306839</td>\n",
       "      <td>-0.039264</td>\n",
       "      <td>-0.021772</td>\n",
       "      <td>-0.008866</td>\n",
       "      <td>0.048411</td>\n",
       "      <td>1.000000</td>\n",
       "      <td>-0.380281</td>\n",
       "      <td>-0.349796</td>\n",
       "      <td>0.395308</td>\n",
       "      <td>-0.207888</td>\n",
       "      <td>-0.098068</td>\n",
       "      <td>0.422895</td>\n",
       "    </tr>\n",
       "    <tr>\n",
       "      <th>ExerciseAngina</th>\n",
       "      <td>0.088163</td>\n",
       "      <td>0.139157</td>\n",
       "      <td>-0.401513</td>\n",
       "      <td>0.061197</td>\n",
       "      <td>0.067382</td>\n",
       "      <td>0.049261</td>\n",
       "      <td>-0.065606</td>\n",
       "      <td>-0.380281</td>\n",
       "      <td>1.000000</td>\n",
       "      <td>0.310844</td>\n",
       "      <td>-0.267335</td>\n",
       "      <td>0.107849</td>\n",
       "      <td>0.197201</td>\n",
       "      <td>-0.438029</td>\n",
       "    </tr>\n",
       "    <tr>\n",
       "      <th>Oldpeak</th>\n",
       "      <td>0.208137</td>\n",
       "      <td>0.084687</td>\n",
       "      <td>-0.174733</td>\n",
       "      <td>0.187434</td>\n",
       "      <td>0.064880</td>\n",
       "      <td>0.010859</td>\n",
       "      <td>-0.050114</td>\n",
       "      <td>-0.349796</td>\n",
       "      <td>0.310844</td>\n",
       "      <td>1.000000</td>\n",
       "      <td>-0.575189</td>\n",
       "      <td>0.221816</td>\n",
       "      <td>0.202672</td>\n",
       "      <td>-0.438441</td>\n",
       "    </tr>\n",
       "    <tr>\n",
       "      <th>ST_Slope</th>\n",
       "      <td>-0.169105</td>\n",
       "      <td>-0.026666</td>\n",
       "      <td>0.131633</td>\n",
       "      <td>-0.120445</td>\n",
       "      <td>-0.014248</td>\n",
       "      <td>-0.061902</td>\n",
       "      <td>0.086086</td>\n",
       "      <td>0.395308</td>\n",
       "      <td>-0.267335</td>\n",
       "      <td>-0.575189</td>\n",
       "      <td>1.000000</td>\n",
       "      <td>-0.073440</td>\n",
       "      <td>-0.094090</td>\n",
       "      <td>0.345512</td>\n",
       "    </tr>\n",
       "    <tr>\n",
       "      <th>ca</th>\n",
       "      <td>0.271551</td>\n",
       "      <td>0.111729</td>\n",
       "      <td>-0.176206</td>\n",
       "      <td>0.104554</td>\n",
       "      <td>0.074259</td>\n",
       "      <td>0.137156</td>\n",
       "      <td>-0.078072</td>\n",
       "      <td>-0.207888</td>\n",
       "      <td>0.107849</td>\n",
       "      <td>0.221816</td>\n",
       "      <td>-0.073440</td>\n",
       "      <td>1.000000</td>\n",
       "      <td>0.149014</td>\n",
       "      <td>-0.382085</td>\n",
       "    </tr>\n",
       "    <tr>\n",
       "      <th>thal</th>\n",
       "      <td>0.072297</td>\n",
       "      <td>0.198424</td>\n",
       "      <td>-0.163341</td>\n",
       "      <td>0.059276</td>\n",
       "      <td>0.100244</td>\n",
       "      <td>-0.042177</td>\n",
       "      <td>-0.020504</td>\n",
       "      <td>-0.098068</td>\n",
       "      <td>0.197201</td>\n",
       "      <td>0.202672</td>\n",
       "      <td>-0.094090</td>\n",
       "      <td>0.149014</td>\n",
       "      <td>1.000000</td>\n",
       "      <td>-0.337838</td>\n",
       "    </tr>\n",
       "    <tr>\n",
       "      <th>HeartDisease</th>\n",
       "      <td>-0.229324</td>\n",
       "      <td>-0.279501</td>\n",
       "      <td>0.434854</td>\n",
       "      <td>-0.138772</td>\n",
       "      <td>-0.099966</td>\n",
       "      <td>-0.041164</td>\n",
       "      <td>0.134468</td>\n",
       "      <td>0.422895</td>\n",
       "      <td>-0.438029</td>\n",
       "      <td>-0.438441</td>\n",
       "      <td>0.345512</td>\n",
       "      <td>-0.382085</td>\n",
       "      <td>-0.337838</td>\n",
       "      <td>1.000000</td>\n",
       "    </tr>\n",
       "  </tbody>\n",
       "</table>\n",
       "</div>"
      ],
      "text/plain": [
       "                     Age       Sex  ChestPainType  RestingBP  Cholesterol  \\\n",
       "Age             1.000000 -0.103240      -0.071966   0.271121     0.219823   \n",
       "Sex            -0.103240  1.000000      -0.041119  -0.078974    -0.198258   \n",
       "ChestPainType  -0.071966 -0.041119       1.000000   0.038177    -0.081641   \n",
       "RestingBP       0.271121 -0.078974       0.038177   1.000000     0.127977   \n",
       "Cholesterol     0.219823 -0.198258      -0.081641   0.127977     1.000000   \n",
       "FastingBS       0.121243  0.027200       0.079294   0.181767     0.026917   \n",
       "RestingECG     -0.132696 -0.055117       0.043581  -0.123794    -0.147410   \n",
       "MaxHR          -0.390227 -0.049365       0.306839  -0.039264    -0.021772   \n",
       "ExerciseAngina  0.088163  0.139157      -0.401513   0.061197     0.067382   \n",
       "Oldpeak         0.208137  0.084687      -0.174733   0.187434     0.064880   \n",
       "ST_Slope       -0.169105 -0.026666       0.131633  -0.120445    -0.014248   \n",
       "ca              0.271551  0.111729      -0.176206   0.104554     0.074259   \n",
       "thal            0.072297  0.198424      -0.163341   0.059276     0.100244   \n",
       "HeartDisease   -0.229324 -0.279501       0.434854  -0.138772    -0.099966   \n",
       "\n",
       "                FastingBS  RestingECG     MaxHR  ExerciseAngina   Oldpeak  \\\n",
       "Age              0.121243   -0.132696 -0.390227        0.088163  0.208137   \n",
       "Sex              0.027200   -0.055117 -0.049365        0.139157  0.084687   \n",
       "ChestPainType    0.079294    0.043581  0.306839       -0.401513 -0.174733   \n",
       "RestingBP        0.181767   -0.123794 -0.039264        0.061197  0.187434   \n",
       "Cholesterol      0.026917   -0.147410 -0.021772        0.067382  0.064880   \n",
       "FastingBS        1.000000   -0.104051 -0.008866        0.049261  0.010859   \n",
       "RestingECG      -0.104051    1.000000  0.048411       -0.065606 -0.050114   \n",
       "MaxHR           -0.008866    0.048411  1.000000       -0.380281 -0.349796   \n",
       "ExerciseAngina   0.049261   -0.065606 -0.380281        1.000000  0.310844   \n",
       "Oldpeak          0.010859   -0.050114 -0.349796        0.310844  1.000000   \n",
       "ST_Slope        -0.061902    0.086086  0.395308       -0.267335 -0.575189   \n",
       "ca               0.137156   -0.078072 -0.207888        0.107849  0.221816   \n",
       "thal            -0.042177   -0.020504 -0.098068        0.197201  0.202672   \n",
       "HeartDisease    -0.041164    0.134468  0.422895       -0.438029 -0.438441   \n",
       "\n",
       "                ST_Slope        ca      thal  HeartDisease  \n",
       "Age            -0.169105  0.271551  0.072297     -0.229324  \n",
       "Sex            -0.026666  0.111729  0.198424     -0.279501  \n",
       "ChestPainType   0.131633 -0.176206 -0.163341      0.434854  \n",
       "RestingBP      -0.120445  0.104554  0.059276     -0.138772  \n",
       "Cholesterol    -0.014248  0.074259  0.100244     -0.099966  \n",
       "FastingBS      -0.061902  0.137156 -0.042177     -0.041164  \n",
       "RestingECG      0.086086 -0.078072 -0.020504      0.134468  \n",
       "MaxHR           0.395308 -0.207888 -0.098068      0.422895  \n",
       "ExerciseAngina -0.267335  0.107849  0.197201     -0.438029  \n",
       "Oldpeak        -0.575189  0.221816  0.202672     -0.438441  \n",
       "ST_Slope        1.000000 -0.073440 -0.094090      0.345512  \n",
       "ca             -0.073440  1.000000  0.149014     -0.382085  \n",
       "thal           -0.094090  0.149014  1.000000     -0.337838  \n",
       "HeartDisease    0.345512 -0.382085 -0.337838      1.000000  "
      ]
     },
     "execution_count": 22,
     "metadata": {},
     "output_type": "execute_result"
    }
   ],
   "source": [
    "correlations"
   ]
  },
  {
   "cell_type": "code",
   "execution_count": 23,
   "metadata": {},
   "outputs": [],
   "source": [
    "def Logistic_Regression(data, seuil=0.1):\n",
    "\n",
    "    # Sélection des colonnes à conserver en fonction de leur corrélation\n",
    "    colonnes_a_garder = correlations[abs(correlations['HeartDisease']) >= seuil].index.tolist()\n",
    "\n",
    "    # Nouveau DataFrame avec les colonnes sélectionnées\n",
    "    df_nouveau = data[colonnes_a_garder]\n",
    "\n",
    "    # Séparation des données en x_train et y_train à partir du nouveau DataFrame\n",
    "    x_train_nouveau = df_nouveau.drop('HeartDisease', axis=1)\n",
    "    y_train_nouveau = df_nouveau['HeartDisease']\n",
    "\n",
    "    # Création d'un DataFrame à partir des données de test\n",
    "    df_test = x_test\n",
    "\n",
    "    # Ajout de la colonne de variable cible (y_test) au DataFrame\n",
    "    df_test['HeartDisease'] = y_test\n",
    "\n",
    "    # Ajout de la colonne de variable cible (y_test) au DataFrame\n",
    "\n",
    "    # Sélection des colonnes à conserver en fonction de leur corrélation\n",
    "    colonnes_a_garder_test = df_test[colonnes_a_garder]\n",
    "\n",
    "    # Séparation des données en x_test_nouveau et y_test_nouveau\n",
    "    x_test_nouveau = colonnes_a_garder_test.drop('HeartDisease', axis=1)\n",
    "    y_test_nouveau = colonnes_a_garder_test['HeartDisease']\n",
    "    \n",
    "    # , solver=\"saga\", random_state=10, class_weight= \"balanced\"\n",
    "    Log_Reg = LogisticRegression(max_iter=3000, solver=\"saga\", random_state=10, class_weight= \"balanced\")\n",
    "    modele=Log_Reg.fit(x_train_nouveau, y_train_nouveau)\n",
    "    text =  \"Précision train: \" + str(modele.score(x_train_nouveau, y_train_nouveau)),\" Précision test: \" + str(modele.score(x_test_nouveau,y_test_nouveau)),\"Seuil de corrélation : \" + str(seuil)\n",
    "    return text\n"
   ]
  },
  {
   "cell_type": "code",
   "execution_count": 24,
   "metadata": {},
   "outputs": [
    {
     "name": "stdout",
     "output_type": "stream",
     "text": [
      "('Précision train: 0.8663414634146341', ' Précision test: 0.8439024390243902', 'Seuil de corrélation : 0.0')\n",
      "('Précision train: 0.8663414634146341', ' Précision test: 0.848780487804878', 'Seuil de corrélation : 0.1')\n",
      "('Précision train: 0.8468292682926829', ' Précision test: 0.8439024390243902', 'Seuil de corrélation : 0.2')\n",
      "('Précision train: 0.8390243902439024', ' Précision test: 0.8195121951219512', 'Seuil de corrélation : 0.30000000000000004')\n",
      "('Précision train: 0.7863414634146342', ' Précision test: 0.7414634146341463', 'Seuil de corrélation : 0.4')\n"
     ]
    }
   ],
   "source": [
    "for i in np.arange(0, 0.5, 0.1):\n",
    "    print(Logistic_Regression(data, i))\n"
   ]
  },
  {
   "cell_type": "code",
   "execution_count": null,
   "metadata": {},
   "outputs": [],
   "source": []
  },
  {
   "cell_type": "code",
   "execution_count": null,
   "metadata": {},
   "outputs": [],
   "source": []
  }
 ],
 "metadata": {
  "kernelspec": {
   "display_name": "Python 3 (ipykernel)",
   "language": "python",
   "name": "python3"
  },
  "language_info": {
   "codemirror_mode": {
    "name": "ipython",
    "version": 3
   },
   "file_extension": ".py",
   "mimetype": "text/x-python",
   "name": "python",
   "nbconvert_exporter": "python",
   "pygments_lexer": "ipython3",
   "version": "3.9.16"
  }
 },
 "nbformat": 4,
 "nbformat_minor": 4
}
